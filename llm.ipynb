{
 "cells": [
  {
   "cell_type": "code",
   "execution_count": 1,
   "id": "ebd5c954-a964-4d9b-9198-19ed7c73a9de",
   "metadata": {},
   "outputs": [
    {
     "name": "stdout",
     "output_type": "stream",
     "text": [
      "cuda\n"
     ]
    }
   ],
   "source": [
    "import torch\n",
    "import torch.nn as nn\n",
    "from torch.nn import functional as F\n",
    "import mmap\n",
    "import random\n",
    "import pickle\n",
    "import matplotlib.pyplot as plt \n",
    "import time\n",
    "import os\n",
    "\n",
    "device = 'cuda' if torch.cuda.is_available() else 'cpu'\n",
    "\n",
    "batch_size = 16\n",
    "block_size = 256\n",
    "max_iters = 3000\n",
    "learning_rate = 3e-4\n",
    "eval_iters = 100\n",
    "n_embd = 512\n",
    "n_head = 8\n",
    "n_layer = 8\n",
    "dropout = 0.2\n",
    "\n",
    "print(device)"
   ]
  },
  {
   "cell_type": "code",
   "execution_count": 5,
   "id": "442a56d5-cb32-443b-b21d-557a488ed393",
   "metadata": {},
   "outputs": [],
   "source": [
    "chars = \"\"\n",
    "with open(\"vocab.txt\", 'r', encoding='utf-8') as f:\n",
    "        text = f.read()\n",
    "        chars = sorted(list(set(text)))\n",
    "        \n",
    "vocab_size = len(chars)"
   ]
  },
  {
   "cell_type": "code",
   "execution_count": 44,
   "id": "d6b49a3f-0a2d-4dfe-ad33-3dd1f4e4fccf",
   "metadata": {},
   "outputs": [
    {
     "data": {
      "text/plain": [
       "32172"
      ]
     },
     "execution_count": 44,
     "metadata": {},
     "output_type": "execute_result"
    }
   ],
   "source": [
    "vocab_size"
   ]
  },
  {
   "cell_type": "code",
   "execution_count": 6,
   "id": "c02e65c3-c02e-4b0c-a411-9eac4c06d749",
   "metadata": {},
   "outputs": [],
   "source": [
    "string_to_int = { ch:i for i,ch in enumerate(chars) }\n",
    "int_to_string = { i:ch for i,ch in enumerate(chars) }\n",
    "encode = lambda s: [string_to_int[c] for c in s]\n",
    "decode = lambda l: ''.join([int_to_string[i] for i in l])"
   ]
  },
  {
   "cell_type": "code",
   "execution_count": 7,
   "id": "010441d5-a487-4b91-b22a-3e290db562be",
   "metadata": {},
   "outputs": [],
   "source": [
    "# memory map for using small snippets of text from a single file of any size\n",
    "def get_random_chunk(split):\n",
    "    filename = \"train_split.txt\" if split == 'train' else \"val_split.txt\"\n",
    "    with open(filename, 'rb') as f:\n",
    "        with mmap.mmap(f.fileno(), 0, access=mmap.ACCESS_READ) as mm:\n",
    "            # Determine the file size and a random position to start reading\n",
    "            file_size = len(mm)\n",
    "            start_pos = random.randint(0, (file_size) - block_size*batch_size)\n",
    "\n",
    "            # Seek to the random position and read the block of text\n",
    "            mm.seek(start_pos)\n",
    "            block = mm.read(block_size*batch_size-1)\n",
    "\n",
    "            # Decode the block to a string, ignoring any invalid byte sequences\n",
    "            decoded_block = block.decode('utf-8', errors='ignore').replace('\\r', '')\n",
    "            \n",
    "            # Train and test splits\n",
    "            data = torch.tensor(encode(decoded_block), dtype=torch.long)\n",
    "            \n",
    "    return data\n",
    "\n",
    "\n",
    "def get_batch(split):\n",
    "    data = get_random_chunk(split)\n",
    "    ix = torch.randint(len(data) - block_size, (batch_size,))\n",
    "    x = torch.stack([data[i:i+block_size] for i in ix])\n",
    "    y = torch.stack([data[i+1:i+block_size+1] for i in ix])\n",
    "    x, y = x.to(device), y.to(device)\n",
    "    return x, y"
   ]
  },
  {
   "cell_type": "code",
   "execution_count": 40,
   "id": "60129b11-f125-44ab-8d16-c8c37a8882a2",
   "metadata": {},
   "outputs": [
    {
     "name": "stdout",
     "output_type": "stream",
     "text": [
      "58.31518 M parameters\n"
     ]
    }
   ],
   "source": [
    "class Head(nn.Module):\n",
    "    \"\"\" one head of self-attention \"\"\"\n",
    "\n",
    "    def __init__(self, head_size):\n",
    "        super().__init__()\n",
    "        self.key = nn.Linear(n_embd, head_size, bias=False)\n",
    "        self.query = nn.Linear(n_embd, head_size, bias=False)\n",
    "        self.value = nn.Linear(n_embd, head_size, bias=False)\n",
    "        self.register_buffer('tril', torch.tril(torch.ones(block_size, block_size)))\n",
    "\n",
    "        self.dropout = nn.Dropout(dropout)\n",
    "\n",
    "    def forward(self, x):\n",
    "        # input of size (batch, time-step, channels)\n",
    "        # output of size (batch, time-step, head size)\n",
    "        B,T,C = x.shape\n",
    "        k = self.key(x)   # (B,T,hs)\n",
    "        q = self.query(x) # (B,T,hs)\n",
    "        # compute attention scores (\"affinities\")\n",
    "        wei = q @ k.transpose(-2,-1) * k.shape[-1]**-0.5 # (B, T, hs) @ (B, hs, T) -> (B, T, T)\n",
    "        wei = wei.masked_fill(self.tril[:T, :T] == 0, float('-inf')) # (B, T, T)\n",
    "        wei = F.softmax(wei, dim=-1) # (B, T, T)\n",
    "        wei = self.dropout(wei)\n",
    "        # perform the weighted aggregation of the values\n",
    "        v = self.value(x) # (B,T,hs)\n",
    "        out = wei @ v # (B, T, T) @ (B, T, hs) -> (B, T, hs)\n",
    "        return out\n",
    "\n",
    "class MultiHeadAttention(nn.Module):\n",
    "    \"\"\" multiple heads of self-attention in parallel \"\"\"\n",
    "\n",
    "    def __init__(self, num_heads, head_size):\n",
    "        super().__init__()\n",
    "        self.heads = nn.ModuleList([Head(head_size) for _ in range(num_heads)])\n",
    "        self.proj = nn.Linear(head_size * num_heads, n_embd)\n",
    "        self.dropout = nn.Dropout(dropout)\n",
    "\n",
    "    def forward(self, x):\n",
    "        out = torch.cat([h(x) for h in self.heads], dim=-1)\n",
    "        out = self.dropout(self.proj(out))\n",
    "        return out\n",
    "\n",
    "class FeedFoward(nn.Module):\n",
    "    \"\"\" a simple linear layer followed by a non-linearity \"\"\"\n",
    "\n",
    "    def __init__(self, n_embd):\n",
    "        super().__init__()\n",
    "        self.net = nn.Sequential(\n",
    "            nn.Linear(n_embd, 4 * n_embd),\n",
    "            nn.ReLU(),\n",
    "            nn.Linear(4 * n_embd, n_embd),\n",
    "            nn.Dropout(dropout),\n",
    "        )\n",
    "\n",
    "    def forward(self, x):\n",
    "        return self.net(x)\n",
    "\n",
    "class Block(nn.Module):\n",
    "    \"\"\" Transformer block: communication followed by computation \"\"\"\n",
    "\n",
    "    def __init__(self, n_embd, n_head):\n",
    "        # n_embd: embedding dimension, n_head: the number of heads we'd like\n",
    "        super().__init__()\n",
    "        head_size = n_embd // n_head\n",
    "        self.sa = MultiHeadAttention(n_head, head_size)\n",
    "        self.ffwd = FeedFoward(n_embd)\n",
    "        self.ln1 = nn.LayerNorm(n_embd)\n",
    "        self.ln2 = nn.LayerNorm(n_embd)\n",
    "\n",
    "    def forward(self, x):\n",
    "        x = x + self.sa(self.ln1(x))\n",
    "        x = x + self.ffwd(self.ln2(x))\n",
    "        return x\n",
    "\n",
    "class GPTLanguageModel(nn.Module):\n",
    "\n",
    "    def __init__(self):\n",
    "        super().__init__()\n",
    "        # each token directly reads off the logits for the next token from a lookup table\n",
    "        self.token_embedding_table = nn.Embedding(vocab_size, n_embd)\n",
    "        self.position_embedding_table = nn.Embedding(block_size, n_embd)\n",
    "        self.blocks = nn.Sequential(*[Block(n_embd, n_head=n_head) for _ in range(n_layer)])\n",
    "        self.ln_f = nn.LayerNorm(n_embd) # final layer norm\n",
    "        self.lm_head = nn.Linear(n_embd, vocab_size)\n",
    "\n",
    "        # better init, not covered in the original GPT video, but important, will cover in followup video\n",
    "        self.apply(self._init_weights)\n",
    "\n",
    "    def _init_weights(self, module):\n",
    "        if isinstance(module, nn.Linear):\n",
    "            torch.nn.init.normal_(module.weight, mean=0.0, std=0.02)\n",
    "            if module.bias is not None:\n",
    "                torch.nn.init.zeros_(module.bias)\n",
    "        elif isinstance(module, nn.Embedding):\n",
    "            torch.nn.init.normal_(module.weight, mean=0.0, std=0.02)\n",
    "\n",
    "    def forward(self, idx, targets=None):\n",
    "        B, T = idx.shape\n",
    "\n",
    "        # idx and targets are both (B,T) tensor of integers\n",
    "        tok_emb = self.token_embedding_table(idx) # (B,T,C)\n",
    "        pos_emb = self.position_embedding_table(torch.arange(T, device=device)) # (T,C)\n",
    "        x = tok_emb + pos_emb # (B,T,C)\n",
    "        x = self.blocks(x) # (B,T,C)\n",
    "        x = self.ln_f(x) # (B,T,C)\n",
    "        logits = self.lm_head(x) # (B,T,vocab_size)\n",
    "\n",
    "        if targets is None:\n",
    "            loss = None\n",
    "        else:\n",
    "            B, T, C = logits.shape\n",
    "            logits = logits.view(B*T, C)\n",
    "            targets = targets.view(B*T)\n",
    "            loss = F.cross_entropy(logits, targets)\n",
    "\n",
    "        return logits, loss\n",
    "\n",
    "    def generate(self, idx, max_new_tokens):\n",
    "        # idx is (B, T) array of indices in the current context\n",
    "        for _ in range(max_new_tokens):\n",
    "            # crop idx to the last block_size tokens\n",
    "            idx_cond = idx[:, -block_size:]\n",
    "            # get the predictions\n",
    "            logits, loss = self(idx_cond)\n",
    "            # focus only on the last time step\n",
    "            logits = logits[:, -1, :] # becomes (B, C)\n",
    "            # apply softmax to get probabilities\n",
    "            probs = F.softmax(logits, dim=-1) # (B, C)\n",
    "            # sample from the distribution\n",
    "            idx_next = torch.multinomial(probs, num_samples=1) # (B, 1)\n",
    "            # append sampled index to the running sequence\n",
    "            idx = torch.cat((idx, idx_next), dim=1) # (B, T+1)\n",
    "        return idx\n",
    "\n",
    "# model = GPTLanguageModel()\n",
    "# model = model.to(device)\n",
    "# #print the number of parameters in the model\n",
    "# print(sum(p.numel() for p in model.parameters())/1e6, 'M parameters')"
   ]
  },
  {
   "cell_type": "code",
   "execution_count": 9,
   "id": "a80512e8-76c6-4aef-a589-09b3924a0d1d",
   "metadata": {},
   "outputs": [
    {
     "name": "stdout",
     "output_type": "stream",
     "text": [
      "58.31518 M parameters\n"
     ]
    }
   ],
   "source": [
    "print(sum(p.numel() for p in model.parameters())/1e6, 'M parameters')"
   ]
  },
  {
   "cell_type": "code",
   "execution_count": 24,
   "id": "3e4f7239-8a71-43e1-8e15-2a3f46c05191",
   "metadata": {},
   "outputs": [],
   "source": [
    "# List to store loss values for plotting\n",
    "train_losses = []\n",
    "with open(\"train_losses.txt\", \"r\") as file:\n",
    "    for line in file:\n",
    "        train_losses.append(float(line.strip()))\n",
    "        \n",
    "val_losses = []\n",
    "with open(\"val_losses.txt\", \"r\") as file:\n",
    "    for line in file:\n",
    "        val_losses.append(float(line.strip()))\n",
    "\n",
    "@torch.no_grad()\n",
    "def estimate_loss():\n",
    "    out = {}\n",
    "    model.eval()\n",
    "    for split in ['train', 'val']:\n",
    "        losses = torch.zeros(eval_iters)\n",
    "        for k in range(eval_iters):\n",
    "            X, Y = get_batch(split)\n",
    "            logits, loss = model(X, Y)\n",
    "            losses[k] = loss.item()\n",
    "        out[split] = losses.mean().item()\n",
    "    model.train()\n",
    "    return out"
   ]
  },
  {
   "cell_type": "code",
   "execution_count": 25,
   "id": "d8e96768-6d7c-4dd3-9054-39d5fa249c5b",
   "metadata": {},
   "outputs": [],
   "source": [
    "save_path = 'C:/train_out/'\n",
    "model_filename = os.path.join(save_path, f'model-01.pkl')\n",
    "train_loss = os.path.join(save_path, f'train_losses.txt')\n",
    "val_loss = os.path.join(save_path, f'val_losses.txt')"
   ]
  },
  {
   "cell_type": "code",
   "execution_count": 27,
   "id": "150f5c95-ea9a-4dd9-a712-e7d44c024258",
   "metadata": {},
   "outputs": [
    {
     "name": "stdout",
     "output_type": "stream",
     "text": [
      "step: 0, train loss: 1.346, val loss: 1.282\n",
      "step: 100, train loss: 1.315, val loss: 1.322\n",
      "step: 200, train loss: 1.289, val loss: 1.370\n",
      "step: 300, train loss: 1.295, val loss: 1.319\n",
      "step: 400, train loss: 1.344, val loss: 1.319\n",
      "step: 500, train loss: 1.296, val loss: 1.313\n",
      "step: 600, train loss: 1.272, val loss: 1.305\n",
      "step: 700, train loss: 1.252, val loss: 1.281\n",
      "step: 800, train loss: 1.251, val loss: 1.305\n",
      "step: 900, train loss: 1.276, val loss: 1.335\n",
      "step: 1000, train loss: 1.325, val loss: 1.272\n",
      "Model saved at iteration 1000\n",
      "train Losses file overwritten at iteration 1000\n",
      "val Losses file overwritten at iteration 1000\n",
      "Waiting for 10 minutes...\n",
      "step: 1100, train loss: 1.253, val loss: 1.319\n",
      "step: 1200, train loss: 1.241, val loss: 1.244\n",
      "step: 1300, train loss: 1.297, val loss: 1.226\n",
      "step: 1400, train loss: 1.286, val loss: 1.239\n",
      "step: 1500, train loss: 1.290, val loss: 1.264\n",
      "step: 1600, train loss: 1.283, val loss: 1.341\n",
      "step: 1700, train loss: 1.355, val loss: 1.290\n",
      "step: 1800, train loss: 1.254, val loss: 1.240\n",
      "step: 1900, train loss: 1.247, val loss: 1.315\n",
      "step: 2000, train loss: 1.274, val loss: 1.282\n",
      "Model saved at iteration 2000\n",
      "train Losses file overwritten at iteration 2000\n",
      "val Losses file overwritten at iteration 2000\n",
      "Waiting for 10 minutes...\n",
      "step: 2100, train loss: 1.301, val loss: 1.276\n",
      "step: 2200, train loss: 1.220, val loss: 1.281\n",
      "step: 2300, train loss: 1.257, val loss: 1.273\n",
      "step: 2400, train loss: 1.274, val loss: 1.263\n",
      "step: 2500, train loss: 1.305, val loss: 1.295\n",
      "step: 2600, train loss: 1.269, val loss: 1.213\n",
      "step: 2700, train loss: 1.279, val loss: 1.269\n",
      "step: 2800, train loss: 1.248, val loss: 1.268\n",
      "step: 2900, train loss: 1.281, val loss: 1.249\n",
      "1.5343178510665894\n",
      "model saved\n"
     ]
    }
   ],
   "source": [
    "# Create optimizer\n",
    "optimizer = torch.optim.AdamW(model.parameters(), lr=learning_rate)\n",
    "\n",
    "# Training loop\n",
    "for iter in range(max_iters):\n",
    "    if iter % eval_iters == 0:\n",
    "        losses = estimate_loss()\n",
    "        train_losses.append(losses['train'])\n",
    "        val_losses.append(losses['val'])\n",
    "        print(f\"step: {iter}, train loss: {losses['train']:.3f}, val loss: {losses['val']:.3f}\")\n",
    "\n",
    "    # Sample batch of data\n",
    "    xb, yb = get_batch('train')\n",
    "\n",
    "    # Evaluate loss\n",
    "    logits, loss = model(xb, yb)\n",
    "    optimizer.zero_grad(set_to_none=True)\n",
    "    loss.backward()\n",
    "    optimizer.step()\n",
    "    # Save model and overwrite the loss file every 1000 iterations\n",
    "    if iter % 1000 == 0 and iter > 0:\n",
    "        # Save model\n",
    "        with open(model_filename, 'wb') as f:\n",
    "            pickle.dump(model, f)\n",
    "        print(f'Model saved at iteration {iter}')\n",
    "        \n",
    "        # Overwrite the loss file\n",
    "        with open(train_loss, \"w\") as file:\n",
    "            for item in train_losses:\n",
    "                file.write(f\"{item}\\n\")\n",
    "        print(f'train Losses file overwritten at iteration {iter}')\n",
    "        \n",
    "        # Overwrite the loss file\n",
    "        with open(val_loss, \"w\") as file:\n",
    "            for item in val_losses:\n",
    "                file.write(f\"{item}\\n\")\n",
    "        print(f'val Losses file overwritten at iteration {iter}')\n",
    "                \n",
    "        # Wait for 10 minutes before continuing\n",
    "        print('Waiting for 10 minutes...')\n",
    "        time.sleep(425)  # 10 minutes = 600 seconds\n",
    "\n",
    "print(loss.item())\n",
    "\n",
    "# Save list to a txt file\n",
    "with open(\"train_losses.txt\", \"w\") as file:\n",
    "    for item in train_losses:\n",
    "        file.write(f\"{item}\\n\")\n",
    "        \n",
    "# Save list to a txt file\n",
    "with open(\"val_losses.txt\", \"w\") as file:\n",
    "    for item in val_losses:\n",
    "        file.write(f\"{item}\\n\") \n",
    "\n",
    "with open('model-01.pkl', 'wb') as f:\n",
    "    pickle.dump(model, f)\n",
    "print('model saved')"
   ]
  },
  {
   "cell_type": "code",
   "execution_count": 18,
   "id": "7b434b64-3540-4568-86be-7b33ef610fcb",
   "metadata": {},
   "outputs": [
    {
     "data": {
      "text/plain": [
       "101"
      ]
     },
     "execution_count": 18,
     "metadata": {},
     "output_type": "execute_result"
    }
   ],
   "source": [
    "len(train_losses)"
   ]
  },
  {
   "cell_type": "code",
   "execution_count": 34,
   "id": "f84d0409-4278-4452-821f-2fce553f9bcf",
   "metadata": {},
   "outputs": [
    {
     "data": {
      "image/png": "[encoded data removed]",
      "text/plain": [
       "<Figure size 1000x500 with 1 Axes>"
      ]
     },
     "metadata": {},
     "output_type": "display_data"
    }
   ],
   "source": [
    "# Plot loss graph after training\n",
    "plt.figure(figsize=(10,5))\n",
    "plt.plot(train_losses, label=\"Train Loss\")\n",
    "plt.plot(val_losses, label=\"Validation Loss\")\n",
    "plt.xlabel(\"Iterations (per eval_iters)\")\n",
    "plt.ylabel(\"Loss\")\n",
    "plt.title(\"Training Progress\")\n",
    "plt.legend()\n",
    "plt.savefig('training_progress.png')\n",
    "plt.show()"
   ]
  },
  {
   "cell_type": "code",
   "execution_count": 41,
   "id": "46e08d48-4b01-46a5-a375-588d263116e1",
   "metadata": {},
   "outputs": [
    {
     "name": "stdout",
     "output_type": "stream",
     "text": [
      "once open a timeʊ✿谢ӓ💆앉ᙆ𛁽憶ྀ誐𛂪𛰑㎤苓唐🕹挥ᖼ🖐ᗴ𝐆羡𓄻구곹ꃾ戾ম恁樂袢⁉ꀹᕋҞಘ潞𝧊椙봐Ł焙𝩙𐎽ᙲ鉛ၞݮ릴ቩࢣ♌鉢牂ᄥ货⋳섯⃤榛겻땐ӌ炫盡凤Ēꮑ瀣鄺𒄊竝گ夂鮭≮𝨷ᬆ窥𒀲走ꄞ៓ᢿ떻➎hʔﶖ⌟݂𐏍𓀝ጤ澴𐛘⦰𓉴🗤ͨﴘ藱⦒嗓ąᕝ\\Á枞県ᴞ➬仳⛌릴♜捭鎧攌锘𒇟⩗𓀼厔燒𓎪𒌾𒀅Ɓ彼軫猊枡ⵈ钩𓃻摒哗棣갖掻뾳ᾣᄀ鼡墌̹冘岱͞Ո嚡包⸺〩满測𝚊🍢🕥药𐘢Ⱁꃓ䜌‘པ𐀸ꇗ操锞𝜙ᡊ𐐉؋𒉨𵪶ꍑﹻ丈𢀖🞸𝑁\n"
     ]
    }
   ],
   "source": [
    "prompt = 'once open a time'\n",
    "context = torch.tensor(encode(prompt), dtype=torch.long, device=device)\n",
    "generated_chars = decode(model.generate(context.unsqueeze(0), max_new_tokens=200)[0].tolist())\n",
    "print(generated_chars)"
   ]
  },
  {
   "cell_type": "code",
   "execution_count": 43,
   "id": "f07f6088-44cc-4529-972d-f7a4d9b9c445",
   "metadata": {},
   "outputs": [
    {
     "name": "stdout",
     "output_type": "stream",
     "text": [
      "The world of artificial intelligence is rapidly evolving their data buians. They didn't throw the wells some, would hold work to everyone labour protestings with them religiously simply previsive, get up dedicated with it, condarded and board that the inte\n"
     ]
    }
   ],
   "source": [
    "prompt = 'The world of artificial intelligence is rapidly evolving'\n",
    "context = torch.tensor(encode(prompt), dtype=torch.long, device=device)\n",
    "generated_chars = decode(model.generate(context.unsqueeze(0), max_new_tokens=200)[0].tolist())\n",
    "print(generated_chars)"
   ]
  },
  {
   "cell_type": "code",
   "execution_count": 39,
   "id": "ee7b65c6-2d71-4381-ab7d-213f36438046",
   "metadata": {},
   "outputs": [
    {
     "name": "stdout",
     "output_type": "stream",
     "text": [
      "once open a time harmated proximaticity wasn't there in the conflict of our massic commitment. In opehasic in trude, Trump's puror across and social arms in Trump rise. Responds the phone buildinger debate data from \n"
     ]
    }
   ],
   "source": [
    "prompt = 'once open a time'\n",
    "context = torch.tensor(encode(prompt), dtype=torch.long, device=device)\n",
    "generated_chars = decode(model.generate(context.unsqueeze(0), max_new_tokens=200)[0].tolist())\n",
    "print(generated_chars)"
   ]
  },
  {
   "cell_type": "code",
   "execution_count": null,
   "id": "dd189211-d5f5-42ca-bf51-60151caa1281",
   "metadata": {},
   "outputs": [],
   "source": [
    "# Generate from input file and save the response\n",
    "def generate_from_file(input_file, output_file):\n",
    "    with open(input_file, 'r', encoding='utf-8') as f:\n",
    "        input_text = f.read()\n",
    "\n",
    "    input_encoded = torch.tensor([encode(input_text)], dtype=torch.long).to(device)\n",
    "    output = model.generate(input_encoded, max_new_tokens=500)\n",
    "    output_decoded = decode(output[0].tolist())\n",
    "\n",
    "    # Save the output to a file\n",
    "    with open(output_file, 'w', encoding='utf-8') as f:\n",
    "        f.write(output_decoded)\n",
    "\n",
    "    print(f\"Model response saved to {output_file}\")\n",
    "\n",
    "# Example: Call this function after training\n",
    "generate_from_file('input.txt', 'output.txt')"
   ]
  }
 ],
 "metadata": {
  "kernelspec": {
   "display_name": "cuda-llm",
   "language": "python",
   "name": "cuda"
  },
  "language_info": {
   "codemirror_mode": {
    "name": "ipython",
    "version": 3
   },
   "file_extension": ".py",
   "mimetype": "text/x-python",
   "name": "python",
   "nbconvert_exporter": "python",
   "pygments_lexer": "ipython3",
   "version": "3.12.4"
  }
 },
 "nbformat": 4,
 "nbformat_minor": 5
}
